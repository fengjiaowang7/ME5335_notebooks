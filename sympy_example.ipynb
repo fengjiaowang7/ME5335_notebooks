{
 "cells": [
  {
   "cell_type": "markdown",
   "metadata": {},
   "source": [
    "Solve for the nodal displacements and reaction force for the following spring element mesh:\n",
    "\n",
    "\n",
    "![](./fe_spring_mesh.png)\n",
    "\n",
    "take $k_1=k_2=k_3=k_4=k$"
   ]
  },
  {
   "cell_type": "code",
   "execution_count": 1,
   "metadata": {},
   "outputs": [],
   "source": [
    "# Import the necessary libraries\n",
    "%matplotlib inline\n",
    "\n",
    "import sympy as sp  # import the sympy library\n",
    "sp.init_printing()  # printing equations using mathematical notation in the jupyter notebook"
   ]
  },
  {
   "cell_type": "code",
   "execution_count": 2,
   "metadata": {},
   "outputs": [],
   "source": [
    "# Define the variables that will be used \n",
    "delta1,delta2,delta3,delta4 = sp.symbols('delta_1,delta_2,delta_3,delta_4')\n",
    "R1,F = sp.symbols('R_1,F')\n",
    "k = sp.symbols('k')"
   ]
  },
  {
   "cell_type": "code",
   "execution_count": 3,
   "metadata": {},
   "outputs": [
    {
     "data": {
      "image/png": "[encoded data removed]",
      "text/latex": [
       "$$\\left[\\begin{matrix}k & - k & 0 & 0\\\\- k & 3 k & - 2 k & 0\\\\0 & - 2 k & 3 k & - k\\\\0 & 0 & - k & k\\end{matrix}\\right]$$"
      ],
      "text/plain": [
       "⎡k    -k    0    0 ⎤\n",
       "⎢                  ⎥\n",
       "⎢-k  3⋅k   -2⋅k  0 ⎥\n",
       "⎢                  ⎥\n",
       "⎢0   -2⋅k  3⋅k   -k⎥\n",
       "⎢                  ⎥\n",
       "⎣0    0     -k   k ⎦"
      ]
     },
     "execution_count": 3,
     "metadata": {},
     "output_type": "execute_result"
    }
   ],
   "source": [
    "# Define the stiffness matrix\n",
    "K = sp.Matrix([[k,-k,0,0],[-k,3*k,-2*k,0],[0,-2*k,3*k,-k],[0,0,-k,k]])\n",
    "K"
   ]
  },
  {
   "cell_type": "code",
   "execution_count": 4,
   "metadata": {},
   "outputs": [
    {
     "data": {
      "image/png": "[encoded data removed]",
      "text/latex": [
       "$$\\left[\\begin{matrix}\\delta_{1}\\\\\\delta_{2}\\\\\\delta_{3}\\\\\\delta_{4}\\end{matrix}\\right]$$"
      ],
      "text/plain": [
       "⎡δ₁⎤\n",
       "⎢  ⎥\n",
       "⎢δ₂⎥\n",
       "⎢  ⎥\n",
       "⎢δ₃⎥\n",
       "⎢  ⎥\n",
       "⎣δ₄⎦"
      ]
     },
     "execution_count": 4,
     "metadata": {},
     "output_type": "execute_result"
    }
   ],
   "source": [
    "# Define the displacement vector\n",
    "u = sp.Matrix([delta1,delta2,delta3,delta4])\n",
    "u"
   ]
  },
  {
   "cell_type": "code",
   "execution_count": 5,
   "metadata": {},
   "outputs": [
    {
     "data": {
      "image/png": "[encoded data removed]",
      "text/latex": [
       "$$\\left[\\begin{matrix}R_{1}\\\\0\\\\0\\\\F\\end{matrix}\\right]$$"
      ],
      "text/plain": [
       "⎡R₁⎤\n",
       "⎢  ⎥\n",
       "⎢0 ⎥\n",
       "⎢  ⎥\n",
       "⎢0 ⎥\n",
       "⎢  ⎥\n",
       "⎣F ⎦"
      ]
     },
     "execution_count": 5,
     "metadata": {},
     "output_type": "execute_result"
    }
   ],
   "source": [
    "# Define the force vector\n",
    "f = sp.Matrix([R1,0,0,F])\n",
    "f"
   ]
  },
  {
   "cell_type": "code",
   "execution_count": 6,
   "metadata": {},
   "outputs": [
    {
     "data": {
      "image/png": "[encoded data removed]",
      "text/latex": [
       "$$\\left \\{ R_{1} : - F, \\quad \\delta_{2} : \\frac{F}{k}, \\quad \\delta_{3} : \\frac{3 F}{2 k}, \\quad \\delta_{4} : \\frac{5 F}{2 k}\\right \\}$$"
      ],
      "text/plain": [
       "⎧            F      3⋅F      5⋅F⎫\n",
       "⎨R₁: -F, δ₂: ─, δ₃: ───, δ₄: ───⎬\n",
       "⎩            k      2⋅k      2⋅k⎭"
      ]
     },
     "execution_count": 6,
     "metadata": {},
     "output_type": "execute_result"
    }
   ],
   "source": [
    "# Substitute delta1=0 into the system of equations and solve for the remaining unknowns\n",
    "sp.solve((K@u-f).subs(delta1,0),R1,delta2,delta3,delta4)"
   ]
  },
  {
   "cell_type": "code",
   "execution_count": null,
   "metadata": {},
   "outputs": [],
   "source": []
  }
 ],
 "metadata": {
  "kernelspec": {
   "display_name": "Python 3",
   "language": "python",
   "name": "python3"
  },
  "language_info": {
   "codemirror_mode": {
    "name": "ipython",
    "version": 3
   },
   "file_extension": ".py",
   "mimetype": "text/x-python",
   "name": "python",
   "nbconvert_exporter": "python",
   "pygments_lexer": "ipython3",
   "version": "3.6.5"
  }
 },
 "nbformat": 4,
 "nbformat_minor": 1
}