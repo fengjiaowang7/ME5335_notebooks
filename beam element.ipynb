{
 "cells": [
  {
   "cell_type": "code",
   "execution_count": 1,
   "metadata": {},
   "outputs": [],
   "source": [
    "%matplotlib inline\n",
    "import numpy as np\n",
    "import matplotlib.pyplot as plt\n",
    "import sympy\n",
    "from sympy import init_printing; init_printing()"
   ]
  },
  {
   "cell_type": "code",
   "execution_count": 2,
   "metadata": {},
   "outputs": [],
   "source": [
    "(x,L) = sympy.symbols('x,L')\n",
    "(E,I) = sympy.symbols('E,I')\n",
    "(N_1,N_2,N_3,N_4) = sympy.symbols('N_1,N_2,N_3,N_4')"
   ]
  },
  {
   "cell_type": "markdown",
   "metadata": {},
   "source": [
    "## Define the four shape functions"
   ]
  },
  {
   "cell_type": "code",
   "execution_count": 3,
   "metadata": {},
   "outputs": [
    {
     "data": {
      "image/png": "[encoded data removed]",
      "text/latex": [
       "$$N_{1} = 1 - \\frac{3 x^{2}}{L^{2}} + \\frac{2 x^{3}}{L^{3}}$$"
      ],
      "text/plain": [
       "            2      3\n",
       "         3⋅x    2⋅x \n",
       "N₁ = 1 - ──── + ────\n",
       "           2      3 \n",
       "          L      L  "
      ]
     },
     "execution_count": 3,
     "metadata": {},
     "output_type": "execute_result"
    }
   ],
   "source": [
    "N1 = 1-3*(x/L)**2+2*(x/L)**3\n",
    "sympy.Eq(N_1,N1)"
   ]
  },
  {
   "cell_type": "code",
   "execution_count": 4,
   "metadata": {},
   "outputs": [
    {
     "data": {
      "image/png": "[encoded data removed]",
      "text/latex": [
       "$$N_{2} = x \\left(-1 + \\frac{x}{L}\\right)^{2}$$"
      ],
      "text/plain": [
       "               2\n",
       "       ⎛     x⎞ \n",
       "N₂ = x⋅⎜-1 + ─⎟ \n",
       "       ⎝     L⎠ "
      ]
     },
     "execution_count": 4,
     "metadata": {},
     "output_type": "execute_result"
    }
   ],
   "source": [
    "N2 = x*(x/L-1)**2\n",
    "sympy.Eq(N_2,N2)"
   ]
  },
  {
   "cell_type": "code",
   "execution_count": 5,
   "metadata": {},
   "outputs": [
    {
     "data": {
      "image/png": "[encoded data removed]",
      "text/latex": [
       "$$N_{3} = \\frac{x^{2}}{L^{2}} \\left(3 - \\frac{2 x}{L}\\right)$$"
      ],
      "text/plain": [
       "      2 ⎛    2⋅x⎞\n",
       "     x ⋅⎜3 - ───⎟\n",
       "        ⎝     L ⎠\n",
       "N₃ = ────────────\n",
       "           2     \n",
       "          L      "
      ]
     },
     "execution_count": 5,
     "metadata": {},
     "output_type": "execute_result"
    }
   ],
   "source": [
    "N3 = (x/L)**2*(3-2*(x/L))\n",
    "sympy.Eq(N_3,N3)"
   ]
  },
  {
   "cell_type": "code",
   "execution_count": 6,
   "metadata": {},
   "outputs": [
    {
     "data": {
      "image/png": "[encoded data removed]",
      "text/latex": [
       "$$N_{4} = \\frac{x^{2}}{L} \\left(-1 + \\frac{x}{L}\\right)$$"
      ],
      "text/plain": [
       "      2 ⎛     x⎞\n",
       "     x ⋅⎜-1 + ─⎟\n",
       "        ⎝     L⎠\n",
       "N₄ = ───────────\n",
       "          L     "
      ]
     },
     "execution_count": 6,
     "metadata": {},
     "output_type": "execute_result"
    }
   ],
   "source": [
    "N4 = (x**2/L)*(x/L-1)\n",
    "sympy.Eq(N_4,N4)"
   ]
  },
  {
   "cell_type": "markdown",
   "metadata": {},
   "source": [
    "## Differentiate the shape functions with respect to x "
   ]
  },
  {
   "cell_type": "code",
   "execution_count": 7,
   "metadata": {},
   "outputs": [
    {
     "data": {
      "image/png": "[encoded data removed]",
      "text/latex": [
       "$$\\frac{6}{L^{2}} \\left(-1 + \\frac{2 x}{L}\\right)$$"
      ],
      "text/plain": [
       "  ⎛     2⋅x⎞\n",
       "6⋅⎜-1 + ───⎟\n",
       "  ⎝      L ⎠\n",
       "────────────\n",
       "      2     \n",
       "     L      "
      ]
     },
     "execution_count": 7,
     "metadata": {},
     "output_type": "execute_result"
    }
   ],
   "source": [
    "N1xx = N1.diff(x,2)\n",
    "N1xx"
   ]
  },
  {
   "cell_type": "code",
   "execution_count": 8,
   "metadata": {},
   "outputs": [
    {
     "data": {
      "image/png": "[encoded data removed]",
      "text/latex": [
       "$$\\frac{2}{L} \\left(-2 + \\frac{3 x}{L}\\right)$$"
      ],
      "text/plain": [
       "  ⎛     3⋅x⎞\n",
       "2⋅⎜-2 + ───⎟\n",
       "  ⎝      L ⎠\n",
       "────────────\n",
       "     L      "
      ]
     },
     "execution_count": 8,
     "metadata": {},
     "output_type": "execute_result"
    }
   ],
   "source": [
    "N2xx = N2.diff(x,2)\n",
    "N2xx"
   ]
  },
  {
   "cell_type": "code",
   "execution_count": 9,
   "metadata": {},
   "outputs": [
    {
     "data": {
      "image/png": "[encoded data removed]",
      "text/latex": [
       "$$\\frac{2}{L^{2}} \\left(3 - \\frac{6 x}{L}\\right)$$"
      ],
      "text/plain": [
       "  ⎛    6⋅x⎞\n",
       "2⋅⎜3 - ───⎟\n",
       "  ⎝     L ⎠\n",
       "───────────\n",
       "      2    \n",
       "     L     "
      ]
     },
     "execution_count": 9,
     "metadata": {},
     "output_type": "execute_result"
    }
   ],
   "source": [
    "N3xx = N3.diff(x,2)\n",
    "N3xx"
   ]
  },
  {
   "cell_type": "code",
   "execution_count": 10,
   "metadata": {},
   "outputs": [
    {
     "data": {
      "image/png": "[encoded data removed]",
      "text/latex": [
       "$$\\frac{2}{L} \\left(-1 + \\frac{3 x}{L}\\right)$$"
      ],
      "text/plain": [
       "  ⎛     3⋅x⎞\n",
       "2⋅⎜-1 + ───⎟\n",
       "  ⎝      L ⎠\n",
       "────────────\n",
       "     L      "
      ]
     },
     "execution_count": 10,
     "metadata": {},
     "output_type": "execute_result"
    }
   ],
   "source": [
    "N4xx = N4.diff(x,2)\n",
    "N4xx"
   ]
  },
  {
   "cell_type": "markdown",
   "metadata": {},
   "source": [
    "## Define the integrand of stiffness matrix"
   ]
  },
  {
   "cell_type": "code",
   "execution_count": 11,
   "metadata": {},
   "outputs": [
    {
     "data": {
      "image/png": "[encoded data removed]",
      "text/latex": [
       "$$\\left[\\begin{matrix}\\frac{36 E}{L^{6}} I \\left(L - 2 x\\right)^{2} & \\frac{12 E}{L^{5}} I \\left(L - 2 x\\right) \\left(2 L - 3 x\\right) & - \\frac{36 E}{L^{6}} I \\left(L - 2 x\\right)^{2} & \\frac{12 E}{L^{5}} I \\left(L - 3 x\\right) \\left(L - 2 x\\right)\\\\\\frac{12 E}{L^{5}} I \\left(L - 2 x\\right) \\left(2 L - 3 x\\right) & \\frac{4 E}{L^{4}} I \\left(2 L - 3 x\\right)^{2} & - \\frac{12 E}{L^{5}} I \\left(L - 2 x\\right) \\left(2 L - 3 x\\right) & \\frac{4 E}{L^{4}} I \\left(L - 3 x\\right) \\left(2 L - 3 x\\right)\\\\- \\frac{36 E}{L^{6}} I \\left(L - 2 x\\right)^{2} & - \\frac{12 E}{L^{5}} I \\left(L - 2 x\\right) \\left(2 L - 3 x\\right) & \\frac{36 E}{L^{6}} I \\left(L - 2 x\\right)^{2} & - \\frac{12 E}{L^{5}} I \\left(L - 3 x\\right) \\left(L - 2 x\\right)\\\\\\frac{12 E}{L^{5}} I \\left(L - 3 x\\right) \\left(L - 2 x\\right) & \\frac{4 E}{L^{4}} I \\left(L - 3 x\\right) \\left(2 L - 3 x\\right) & - \\frac{12 E}{L^{5}} I \\left(L - 3 x\\right) \\left(L - 2 x\\right) & \\frac{4 E}{L^{4}} I \\left(L - 3 x\\right)^{2}\\end{matrix}\\right]$$"
      ],
      "text/plain": [
       "⎡                     2                                                       \n",
       "⎢     36⋅E⋅I⋅(L - 2⋅x)          12⋅E⋅I⋅(L - 2⋅x)⋅(2⋅L - 3⋅x)        -36⋅E⋅I⋅(L\n",
       "⎢     ─────────────────         ────────────────────────────        ──────────\n",
       "⎢              6                              5                               \n",
       "⎢             L                              L                               L\n",
       "⎢                                                                             \n",
       "⎢                                                     2                       \n",
       "⎢12⋅E⋅I⋅(L - 2⋅x)⋅(2⋅L - 3⋅x)        4⋅E⋅I⋅(2⋅L - 3⋅x)         -12⋅E⋅I⋅(L - 2⋅\n",
       "⎢────────────────────────────        ──────────────────        ───────────────\n",
       "⎢              5                              4                               \n",
       "⎢             L                              L                               L\n",
       "⎢                                                                             \n",
       "⎢                     2                                                       \n",
       "⎢    -36⋅E⋅I⋅(L - 2⋅x)         -12⋅E⋅I⋅(L - 2⋅x)⋅(2⋅L - 3⋅x)         36⋅E⋅I⋅(L\n",
       "⎢    ───────────────────       ──────────────────────────────        ─────────\n",
       "⎢              6                              5                               \n",
       "⎢             L                              L                               L\n",
       "⎢                                                                             \n",
       "⎢                                                                             \n",
       "⎢ 12⋅E⋅I⋅(L - 3⋅x)⋅(L - 2⋅x)    4⋅E⋅I⋅(L - 3⋅x)⋅(2⋅L - 3⋅x)     -12⋅E⋅I⋅(L - 3\n",
       "⎢ ──────────────────────────    ───────────────────────────     ──────────────\n",
       "⎢              5                              4                               \n",
       "⎣             L                              L                               L\n",
       "\n",
       "       2                                     ⎤\n",
       " - 2⋅x)           12⋅E⋅I⋅(L - 3⋅x)⋅(L - 2⋅x) ⎥\n",
       "─────────         ────────────────────────── ⎥\n",
       "6                              5             ⎥\n",
       "                              L              ⎥\n",
       "                                             ⎥\n",
       "                                             ⎥\n",
       "x)⋅(2⋅L - 3⋅x)   4⋅E⋅I⋅(L - 3⋅x)⋅(2⋅L - 3⋅x) ⎥\n",
       "───────────────  ─────────────────────────── ⎥\n",
       "5                              4             ⎥\n",
       "                              L              ⎥\n",
       "                                             ⎥\n",
       "       2                                     ⎥\n",
       " - 2⋅x)          -12⋅E⋅I⋅(L - 3⋅x)⋅(L - 2⋅x) ⎥\n",
       "────────         ────────────────────────────⎥\n",
       "6                              5             ⎥\n",
       "                              L              ⎥\n",
       "                                             ⎥\n",
       "                                      2      ⎥\n",
       "⋅x)⋅(L - 2⋅x)          4⋅E⋅I⋅(L - 3⋅x)       ⎥\n",
       "──────────────         ────────────────      ⎥\n",
       "5                              4             ⎥\n",
       "                              L              ⎦"
      ]
     },
     "execution_count": 11,
     "metadata": {},
     "output_type": "execute_result"
    }
   ],
   "source": [
    "K = (E*I)*sympy.Matrix( [[N1xx*N1xx, N2xx*N1xx, N3xx*N1xx, N4xx*N1xx], [N1xx*N2xx, N2xx*N2xx, N3xx*N2xx, N4xx*N2xx], [N1xx*N3xx, N2xx*N3xx, N3xx*N3xx, N4xx*N3xx], [N1xx*N4xx, N2xx*N4xx, N3xx*N4xx, N4xx*N4xx]])\n",
    "K.simplify()\n",
    "K"
   ]
  },
  {
   "cell_type": "markdown",
   "metadata": {},
   "source": [
    "##Integrate the stiffness matrix"
   ]
  },
  {
   "cell_type": "code",
   "execution_count": 12,
   "metadata": {},
   "outputs": [
    {
     "data": {
      "image/png": "[encoded data removed]",
      "text/latex": [
       "$$\\left[\\begin{matrix}\\frac{12 E}{L^{3}} I & \\frac{6 E}{L^{2}} I & - \\frac{12 E}{L^{3}} I & \\frac{6 E}{L^{2}} I\\\\\\frac{6 E}{L^{2}} I & \\frac{4 E}{L} I & - \\frac{6 E}{L^{2}} I & \\frac{2 E}{L} I\\\\- \\frac{12 E}{L^{3}} I & - \\frac{6 E}{L^{2}} I & \\frac{12 E}{L^{3}} I & - \\frac{6 E}{L^{2}} I\\\\\\frac{6 E}{L^{2}} I & \\frac{2 E}{L} I & - \\frac{6 E}{L^{2}} I & \\frac{4 E}{L} I\\end{matrix}\\right]$$"
      ],
      "text/plain": [
       "⎡ 12⋅E⋅I    6⋅E⋅I   -12⋅E⋅I    6⋅E⋅I ⎤\n",
       "⎢ ──────    ─────   ────────   ───── ⎥\n",
       "⎢    3         2        3         2  ⎥\n",
       "⎢   L         L        L         L   ⎥\n",
       "⎢                                    ⎥\n",
       "⎢ 6⋅E⋅I     4⋅E⋅I   -6⋅E⋅I     2⋅E⋅I ⎥\n",
       "⎢ ─────     ─────   ───────    ───── ⎥\n",
       "⎢    2        L         2        L   ⎥\n",
       "⎢   L                  L             ⎥\n",
       "⎢                                    ⎥\n",
       "⎢-12⋅E⋅I   -6⋅E⋅I    12⋅E⋅I   -6⋅E⋅I ⎥\n",
       "⎢────────  ───────   ──────   ───────⎥\n",
       "⎢    3         2        3         2  ⎥\n",
       "⎢   L         L        L         L   ⎥\n",
       "⎢                                    ⎥\n",
       "⎢ 6⋅E⋅I     2⋅E⋅I   -6⋅E⋅I     4⋅E⋅I ⎥\n",
       "⎢ ─────     ─────   ───────    ───── ⎥\n",
       "⎢    2        L         2        L   ⎥\n",
       "⎣   L                  L             ⎦"
      ]
     },
     "execution_count": 12,
     "metadata": {},
     "output_type": "execute_result"
    }
   ],
   "source": [
    "K = K.integrate((x,0,L))\n",
    "K"
   ]
  },
  {
   "cell_type": "markdown",
   "metadata": {},
   "source": [
    "## Define the integrand of the force vector"
   ]
  },
  {
   "cell_type": "code",
   "execution_count": 13,
   "metadata": {},
   "outputs": [
    {
     "data": {
      "image/png": "[encoded data removed]",
      "text/latex": [
       "$$\\left[\\begin{matrix}p \\left(1 - \\frac{3 x^{2}}{L^{2}} + \\frac{2 x^{3}}{L^{3}}\\right)\\\\p x \\left(-1 + \\frac{x}{L}\\right)^{2}\\\\\\frac{p x^{2}}{L^{2}} \\left(3 - \\frac{2 x}{L}\\right)\\\\\\frac{p x^{2}}{L} \\left(-1 + \\frac{x}{L}\\right)\\end{matrix}\\right]$$"
      ],
      "text/plain": [
       "⎡  ⎛       2      3⎞⎤\n",
       "⎢  ⎜    3⋅x    2⋅x ⎟⎥\n",
       "⎢p⋅⎜1 - ──── + ────⎟⎥\n",
       "⎢  ⎜      2      3 ⎟⎥\n",
       "⎢  ⎝     L      L  ⎠⎥\n",
       "⎢                   ⎥\n",
       "⎢               2   ⎥\n",
       "⎢       ⎛     x⎞    ⎥\n",
       "⎢   p⋅x⋅⎜-1 + ─⎟    ⎥\n",
       "⎢       ⎝     L⎠    ⎥\n",
       "⎢                   ⎥\n",
       "⎢     2 ⎛    2⋅x⎞   ⎥\n",
       "⎢  p⋅x ⋅⎜3 - ───⎟   ⎥\n",
       "⎢       ⎝     L ⎠   ⎥\n",
       "⎢  ──────────────   ⎥\n",
       "⎢         2         ⎥\n",
       "⎢        L          ⎥\n",
       "⎢                   ⎥\n",
       "⎢      2 ⎛     x⎞   ⎥\n",
       "⎢   p⋅x ⋅⎜-1 + ─⎟   ⎥\n",
       "⎢        ⎝     L⎠   ⎥\n",
       "⎢   ─────────────   ⎥\n",
       "⎣         L         ⎦"
      ]
     },
     "execution_count": 13,
     "metadata": {},
     "output_type": "execute_result"
    }
   ],
   "source": [
    "p = sympy.symbols('p')\n",
    "F = p*sympy.Matrix([N1,N2,N3,N4])\n",
    "F"
   ]
  },
  {
   "cell_type": "markdown",
   "metadata": {},
   "source": [
    "## Integrate the force vector"
   ]
  },
  {
   "cell_type": "code",
   "execution_count": 14,
   "metadata": {},
   "outputs": [
    {
     "data": {
      "image/png": "[encoded data removed]",
      "text/latex": [
       "$$\\left[\\begin{matrix}\\frac{L p}{2}\\\\\\frac{L^{2} p}{12}\\\\\\frac{L p}{2}\\\\- \\frac{L^{2} p}{12}\\end{matrix}\\right]$$"
      ],
      "text/plain": [
       "⎡ L⋅p  ⎤\n",
       "⎢ ───  ⎥\n",
       "⎢  2   ⎥\n",
       "⎢      ⎥\n",
       "⎢  2   ⎥\n",
       "⎢ L ⋅p ⎥\n",
       "⎢ ──── ⎥\n",
       "⎢  12  ⎥\n",
       "⎢      ⎥\n",
       "⎢ L⋅p  ⎥\n",
       "⎢ ───  ⎥\n",
       "⎢  2   ⎥\n",
       "⎢      ⎥\n",
       "⎢  2   ⎥\n",
       "⎢-L ⋅p ⎥\n",
       "⎢──────⎥\n",
       "⎣  12  ⎦"
      ]
     },
     "execution_count": 14,
     "metadata": {},
     "output_type": "execute_result"
    }
   ],
   "source": [
    "F = F.integrate((x,0,L))\n",
    "F"
   ]
  },
  {
   "cell_type": "code",
   "execution_count": 15,
   "metadata": {},
   "outputs": [
    {
     "data": {
      "image/png": "[encoded data removed]",
      "text/latex": [
       "$$\\left[\\begin{matrix}\\frac{6 E}{L^{2}} I \\delta_{4} - \\frac{12 E}{L^{3}} I \\delta_{3} - \\frac{L p}{2}\\\\\\frac{2 E}{L} I \\delta_{4} - \\frac{6 E}{L^{2}} I \\delta_{3} - \\frac{L^{2} p}{12}\\\\- \\frac{6 E}{L^{2}} I \\delta_{4} + \\frac{12 E}{L^{3}} I \\delta_{3} - \\frac{L p}{2}\\\\\\frac{4 E}{L} I \\delta_{4} - \\frac{6 E}{L^{2}} I \\delta_{3} + \\frac{L^{2} p}{12}\\end{matrix}\\right]$$"
      ],
      "text/plain": [
       "⎡ 6⋅E⋅I⋅δ₄   12⋅E⋅I⋅δ₃   L⋅p ⎤\n",
       "⎢ ──────── - ───────── - ─── ⎥\n",
       "⎢     2           3       2  ⎥\n",
       "⎢    L           L           ⎥\n",
       "⎢                            ⎥\n",
       "⎢                        2   ⎥\n",
       "⎢ 2⋅E⋅I⋅δ₄   6⋅E⋅I⋅δ₃   L ⋅p ⎥\n",
       "⎢ ──────── - ──────── - ──── ⎥\n",
       "⎢    L           2       12  ⎥\n",
       "⎢               L            ⎥\n",
       "⎢                            ⎥\n",
       "⎢  6⋅E⋅I⋅δ₄   12⋅E⋅I⋅δ₃   L⋅p⎥\n",
       "⎢- ──────── + ───────── - ───⎥\n",
       "⎢      2           3       2 ⎥\n",
       "⎢     L           L          ⎥\n",
       "⎢                            ⎥\n",
       "⎢                        2   ⎥\n",
       "⎢ 4⋅E⋅I⋅δ₄   6⋅E⋅I⋅δ₃   L ⋅p ⎥\n",
       "⎢ ──────── - ──────── + ──── ⎥\n",
       "⎢    L           2       12  ⎥\n",
       "⎣               L            ⎦"
      ]
     },
     "execution_count": 15,
     "metadata": {},
     "output_type": "execute_result"
    }
   ],
   "source": [
    "(delta1,delta2,delta3,delta4) = sympy.symbols('delta1,delta2,delta3,delta4')\n",
    "system=K@sympy.Matrix([0,0,delta3,delta4])-F\n",
    "system"
   ]
  },
  {
   "cell_type": "markdown",
   "metadata": {},
   "source": [
    "## Solve for the unkown displacement and slope"
   ]
  },
  {
   "cell_type": "code",
   "execution_count": 16,
   "metadata": {},
   "outputs": [
    {
     "data": {
      "image/png": "[encoded data removed]",
      "text/latex": [
       "$$\\left \\{ \\delta_{3} : \\frac{L^{4} p}{8 E I}, \\quad \\delta_{4} : \\frac{L^{3} p}{6 E I}\\right \\}$$"
      ],
      "text/plain": [
       "⎧      4          3  ⎫\n",
       "⎪     L ⋅p       L ⋅p⎪\n",
       "⎨δ₃: ─────, δ₄: ─────⎬\n",
       "⎪    8⋅E⋅I      6⋅E⋅I⎪\n",
       "⎩                    ⎭"
      ]
     },
     "execution_count": 16,
     "metadata": {},
     "output_type": "execute_result"
    }
   ],
   "source": [
    "solution = sympy.solve( (system[2],system[3]),(delta3,delta4))\n",
    "solution"
   ]
  },
  {
   "cell_type": "markdown",
   "metadata": {},
   "source": [
    "## Express the finite element solution as a function of x using the interpolation functions"
   ]
  },
  {
   "cell_type": "code",
   "execution_count": 17,
   "metadata": {},
   "outputs": [
    {
     "data": {
      "image/png": "[encoded data removed]",
      "text/latex": [
       "$$\\frac{5 L^{2} p x^{2}}{24 E I} - \\frac{L p x^{3}}{12 E I}$$"
      ],
      "text/plain": [
       "   2    2        3\n",
       "5⋅L ⋅p⋅x    L⋅p⋅x \n",
       "───────── - ──────\n",
       "  24⋅E⋅I    12⋅E⋅I"
      ]
     },
     "execution_count": 17,
     "metadata": {},
     "output_type": "execute_result"
    }
   ],
   "source": [
    "w_solution = sympy.Matrix([N1,N2,N3,N4]).dot(sympy.Matrix([0,0,solution[delta3],solution[delta4]]))\n",
    "w_solution = w_solution.expand().collect(x)\n",
    "w_solution"
   ]
  },
  {
   "cell_type": "markdown",
   "metadata": {},
   "source": [
    "## Exact solution for a distributed load on a cantilever beam"
   ]
  },
  {
   "cell_type": "code",
   "execution_count": 18,
   "metadata": {},
   "outputs": [
    {
     "data": {
      "image/png": "[encoded data removed]",
      "text/latex": [
       "$$\\frac{L^{4} p}{8 E I} - \\frac{L^{3} p x}{6 E I} + \\frac{p x^{4}}{24 E I}$$"
      ],
      "text/plain": [
       "  4      3           4 \n",
       " L ⋅p   L ⋅p⋅x    p⋅x  \n",
       "───── - ────── + ──────\n",
       "8⋅E⋅I   6⋅E⋅I    24⋅E⋅I"
      ]
     },
     "execution_count": 18,
     "metadata": {},
     "output_type": "execute_result"
    }
   ],
   "source": [
    "a_solution = ((p*L**4)/(24*E*I))*(x**4/L**4-(4*x)/L+3)\n",
    "a_solution = a_solution.expand().collect(x)\n",
    "a_solution"
   ]
  },
  {
   "cell_type": "code",
   "execution_count": 19,
   "metadata": {},
   "outputs": [],
   "source": [
    "position = []\n",
    "fe = []\n",
    "analytic = []\n",
    "for pos in np.linspace(0,10):\n",
    "    position.append(pos)\n",
    "    fe.append(-(w_solution.subs({I:1.0e-4,E:1e6,x:pos,L:10,p:10})))\n",
    "    analytic.append(-(a_solution.subs({I:1e-4,E:1e6,x:10-pos,L:10,p:10})))\n",
    "    "
   ]
  },
  {
   "cell_type": "markdown",
   "metadata": {},
   "source": [
    "## Comparison between FE solution and the exact solution"
   ]
  },
  {
   "cell_type": "code",
   "execution_count": 20,
   "metadata": {},
   "outputs": [
    {
     "data": {
      "text/plain": [
       "<matplotlib.legend.Legend at 0x1db459bab70>"
      ]
     },
     "execution_count": 20,
     "metadata": {},
     "output_type": "execute_result"
    },
    {
     "data": {
      "image/png": "[encoded data removed]",
      "text/plain": [
       "<Figure size 432x288 with 1 Axes>"
      ]
     },
     "metadata": {},
     "output_type": "display_data"
    }
   ],
   "source": [
    "plt.plot(position,fe,label='FE Solution')\n",
    "plt.plot(position,analytic,label='Exact Solution')\n",
    "plt.legend(loc='best')\n"
   ]
  },
  {
   "cell_type": "code",
   "execution_count": null,
   "metadata": {},
   "outputs": [],
   "source": []
  }
 ],
 "metadata": {
  "kernelspec": {
   "display_name": "Python 3",
   "language": "python",
   "name": "python3"
  },
  "language_info": {
   "codemirror_mode": {
    "name": "ipython",
    "version": 3
   },
   "file_extension": ".py",
   "mimetype": "text/x-python",
   "name": "python",
   "nbconvert_exporter": "python",
   "pygments_lexer": "ipython3",
   "version": "3.6.5"
  }
 },
 "nbformat": 4,
 "nbformat_minor": 1
}
