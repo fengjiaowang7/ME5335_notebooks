{
 "cells": [
  {
   "cell_type": "code",
   "execution_count": 1,
   "metadata": {},
   "outputs": [],
   "source": [
    "%matplotlib inline\n",
    "import matplotlib.pylab as plt\n",
    "from math import *\n",
    "import numpy as np"
   ]
  },
  {
   "cell_type": "code",
   "execution_count": 2,
   "metadata": {},
   "outputs": [],
   "source": [
    "k1 = 1.38   # W/(m*K)\n",
    "k2 = 1.3\n",
    "k3 = 1.3\n",
    "\n",
    "c1 = 880 # J/(kg*K)\n",
    "c2 = 880\n",
    "c3 = 700\n",
    "\n",
    "rho1 = 2300 # kg/m^3\n",
    "rho2 = 2400\n",
    "rho3 = 2000\n",
    "\n",
    "L1 = 0.12  # m\n",
    "L2 = 0.23\n",
    "L3 = 0.076\n",
    "\n",
    "beta1 = 1922 # degrees K\n",
    "\n",
    "h = 20 # W/(m^2*K)\n",
    "Te = 422\n",
    "\n",
    "# initial temperatures\n",
    "T1_0 = 300\n",
    "T2_0 = 300\n",
    "T3_0 = 300\n",
    "T4_0 = 300\n",
    "\n",
    "A = 0.19 # m^2\n",
    "\n",
    "delta_t = 2000  # sec\n",
    "end_time = 300000"
   ]
  },
  {
   "cell_type": "code",
   "execution_count": 3,
   "metadata": {},
   "outputs": [
    {
     "name": "stdout",
     "output_type": "stream",
     "text": [
      "[1922.         1571.69011048  858.94421989  623.42818647]\n"
     ]
    }
   ],
   "source": [
    "K = A*np.array([[1/A, 0, 0, 0],\n",
    "                [-k1/L1, k1/L1+k2/L2, -k2/L2, 0],\n",
    "                [0, -k2/L2, k2/L2+k3/L3, -k3/L3],\n",
    "                [0, 0, -k3/L3, k3/L3+h]])\n",
    "R = np.array([beta1,\n",
    "              0,\n",
    "              0,\n",
    "              h*A*Te])\n",
    "\n",
    "C = 0.5*A*np.diag([rho1*c1*L1, rho1*c1*L1+rho2*c2*L2, rho2*c2*L2+rho3*c3*L3, rho3*c3*L3])\n",
    "\n",
    "ss_solution = np.linalg.inv(K) @ R\n",
    "print(ss_solution)"
   ]
  },
  {
   "cell_type": "code",
   "execution_count": 4,
   "metadata": {},
   "outputs": [],
   "source": [
    "C_inv = np.linalg.inv(C)\n",
    "\n",
    "T_0 = np.array([T1_0, T2_0, T3_0, T4_0])\n",
    "\n",
    "time = np.arange(0.0, end_time, delta_t)\n",
    "\n",
    "transient_solution = []\n",
    "\n",
    "transient_solution.append(T_0)\n",
    "\n",
    "for t in time[1:]:\n",
    "    r_bar = (C-delta_t*K) @ transient_solution[-1] + delta_t*R\n",
    "    transient_solution.append( C_inv @ r_bar)\n",
    "    \n",
    "transient_solution = np.array(transient_solution)\n",
    "    "
   ]
  },
  {
   "cell_type": "code",
   "execution_count": 5,
   "metadata": {},
   "outputs": [
    {
     "data": {
      "text/plain": [
       "Text(0.5,1,'Temperature vs. Time')"
      ]
     },
     "execution_count": 5,
     "metadata": {},
     "output_type": "execute_result"
    },
    {
     "data": {
      "image/png": "[encoded data removed]",
      "text/plain": [
       "<Figure size 432x288 with 1 Axes>"
      ]
     },
     "metadata": {
      "needs_background": "light"
     },
     "output_type": "display_data"
    }
   ],
   "source": [
    "plt.plot(time*(1/(60*60*24)),transient_solution[:,3])\n",
    "plt.axhline(ss_solution[3],linestyle='--')\n",
    "\n",
    "plt.xlabel('Time (days)')\n",
    "plt.ylabel('Temp (K)')\n",
    "plt.title('Temperature vs. Time')"
   ]
  },
  {
   "cell_type": "code",
   "execution_count": null,
   "metadata": {},
   "outputs": [],
   "source": []
  }
 ],
 "metadata": {
  "kernelspec": {
   "display_name": "Python 3",
   "language": "python",
   "name": "python3"
  },
  "language_info": {
   "codemirror_mode": {
    "name": "ipython",
    "version": 3
   },
   "file_extension": ".py",
   "mimetype": "text/x-python",
   "name": "python",
   "nbconvert_exporter": "python",
   "pygments_lexer": "ipython3",
   "version": "3.7.0"
  }
 },
 "nbformat": 4,
 "nbformat_minor": 2
}
