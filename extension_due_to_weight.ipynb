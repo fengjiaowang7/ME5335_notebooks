{
 "cells": [
  {
   "cell_type": "markdown",
   "metadata": {},
   "source": [
    "When we introduced the Galerkin method for deriving element equations, we worked through the example of a rod hanging under its own weight defined by the following differential equation:\n",
    "\n",
    "![](./images/hanging_rod_problem.png)"
   ]
  },
  {
   "cell_type": "markdown",
   "metadata": {},
   "source": [
    "After applying the Galerkin method, we obtained the following element matrix equation:\n",
    "\n",
    "![](./images/hanging_rod_element_equation.png)"
   ]
  },
  {
   "cell_type": "markdown",
   "metadata": {},
   "source": [
    "In this program, we'll write a complete finite element solver that will let us look at the displacement and stress convergance properties as we vary the number of elements in the mesh."
   ]
  },
  {
   "cell_type": "code",
   "execution_count": 1,
   "metadata": {},
   "outputs": [],
   "source": [
    "%matplotlib inline\n",
    "import numpy as np\n",
    "import matplotlib.pyplot as plt"
   ]
  },
  {
   "cell_type": "code",
   "execution_count": 2,
   "metadata": {},
   "outputs": [],
   "source": [
    "# Define the constants needed for the problem\n",
    "L = 1.0  # Total length of rod\n",
    "A = 0.2  # Cross sectional area of rod\n",
    "E = 10   # Elastic modulus of rod\n",
    "q_0 = 5.0*A   # Downward force per unit length of rod"
   ]
  },
  {
   "cell_type": "code",
   "execution_count": 3,
   "metadata": {},
   "outputs": [],
   "source": [
    "# Define the number of elements to use in the mesh\n",
    "M = 2  # Number of elements\n",
    "N = M+1  # Number of nodes"
   ]
  },
  {
   "cell_type": "code",
   "execution_count": 4,
   "metadata": {},
   "outputs": [
    {
     "data": {
      "text/plain": [
       "array([[0, 1],\n",
       "       [1, 2]])"
      ]
     },
     "execution_count": 4,
     "metadata": {},
     "output_type": "execute_result"
    }
   ],
   "source": [
    "# Define the connectivity matrix\n",
    "nodes = np.linspace(0,L,N)\n",
    "connectivity = np.array([ [i,i+1] for i in range(M) ], dtype=int)\n",
    "connectivity"
   ]
  },
  {
   "cell_type": "code",
   "execution_count": 5,
   "metadata": {},
   "outputs": [],
   "source": [
    "# Define the element matrices\n",
    "k_elements = []\n",
    "f_elements = []\n",
    "for current_elem in range(M):\n",
    "    node1 = nodes[connectivity[current_elem,0]]\n",
    "    node2 = nodes[connectivity[current_elem,1]]\n",
    "    elem_length = node2-node1\n",
    "    k_elements.append( E*A*np.array([[1/elem_length, -1/elem_length],[-1/elem_length, 1/elem_length]]) )\n",
    "    \n",
    "    f_elements.append( q_0*np.array([elem_length/2.0, elem_length/2.0]) )\n",
    "    "
   ]
  },
  {
   "cell_type": "code",
   "execution_count": 6,
   "metadata": {},
   "outputs": [
    {
     "data": {
      "text/plain": [
       "(array([[ 4., -4.,  0.],\n",
       "        [-4.,  8., -4.],\n",
       "        [ 0., -4.,  4.]]),\n",
       " array([[0.25],\n",
       "        [0.5 ],\n",
       "        [0.25]]))"
      ]
     },
     "execution_count": 6,
     "metadata": {},
     "output_type": "execute_result"
    }
   ],
   "source": [
    "# Assemble the matrices\n",
    "K = np.zeros((N,N))\n",
    "F = np.zeros((N,1))\n",
    "\n",
    "for elem_num, elem_k in enumerate(k_elements):\n",
    "    for i in range(2):\n",
    "        row = connectivity[elem_num,i]\n",
    "        F[row] += f_elements[elem_num][i]\n",
    "        for j in range(2):\n",
    "            col = connectivity[elem_num,j]\n",
    "            K[row,col] += elem_k[i,j]\n",
    "            \n",
    "            \n",
    "        \n",
    "(K,F)\n",
    "    "
   ]
  },
  {
   "cell_type": "code",
   "execution_count": 7,
   "metadata": {},
   "outputs": [],
   "source": [
    "# Apply the zero displacement boundary condition at the first node\n",
    "K_with_bc = np.copy(K) # make a copy of the original K, we need it to calculate the reaction force\n",
    "\n",
    "for i in range(N):\n",
    "    if i == 0:\n",
    "        K_with_bc[0,i] = 1\n",
    "    else:\n",
    "        K_with_bc[0,i] = 0\n",
    "        \n",
    "F[0] = 0"
   ]
  },
  {
   "cell_type": "code",
   "execution_count": 8,
   "metadata": {},
   "outputs": [],
   "source": [
    "# Solve for the nodal displacements\n",
    "delta = np.linalg.inv(K_with_bc)@F"
   ]
  },
  {
   "cell_type": "code",
   "execution_count": 9,
   "metadata": {},
   "outputs": [
    {
     "data": {
      "text/plain": [
       "array([-0.75])"
      ]
     },
     "execution_count": 9,
     "metadata": {},
     "output_type": "execute_result"
    }
   ],
   "source": [
    "# Solve for the reaction force at node 1\n",
    "R = K@delta\n",
    "R = R[0]\n",
    "R"
   ]
  },
  {
   "cell_type": "code",
   "execution_count": 10,
   "metadata": {},
   "outputs": [],
   "source": [
    "# Calculate the stress for each of the elements\n",
    "element_stress = []\n",
    "\n",
    "for node1,node2 in connectivity:\n",
    "    elongation = (delta[node2]-delta[node1])/(nodes[node2]-nodes[node1])\n",
    "    element_stress.append(E*elongation)"
   ]
  },
  {
   "cell_type": "code",
   "execution_count": 11,
   "metadata": {},
   "outputs": [
    {
     "data": {
      "text/plain": [
       "<matplotlib.legend.Legend at 0x7f5d8ed64ee0>"
      ]
     },
     "execution_count": 11,
     "metadata": {},
     "output_type": "execute_result"
    },
    {
     "data": {
      "image/png": "[encoded data removed]",
      "text/plain": [
       "<Figure size 432x288 with 1 Axes>"
      ]
     },
     "metadata": {
      "needs_background": "light"
     },
     "output_type": "display_data"
    }
   ],
   "source": [
    "# Displacement plot\n",
    "plt.plot(nodes, delta, 'b', label='FE Solution')\n",
    "plt.xlabel('x')\n",
    "plt.ylabel('displacement')\n",
    "plt.title('FE vs. Exact Displacement')\n",
    "x_values = np.linspace(0,L)\n",
    "plt.plot(x_values,np.reshape( (1/(A*E)) * (-((q_0*(x_values**2))/2.0) + q_0*L*x_values) ,(-1)), 'g--', label='Exact Solution')\n",
    "plt.legend(loc='best')\n"
   ]
  },
  {
   "cell_type": "code",
   "execution_count": 12,
   "metadata": {},
   "outputs": [
    {
     "data": {
      "text/plain": [
       "<matplotlib.legend.Legend at 0x7f5d8eccd610>"
      ]
     },
     "execution_count": 12,
     "metadata": {},
     "output_type": "execute_result"
    },
    {
     "data": {
      "image/png": "[encoded data removed]",
      "text/plain": [
       "<Figure size 432x288 with 1 Axes>"
      ]
     },
     "metadata": {
      "needs_background": "light"
     },
     "output_type": "display_data"
    }
   ],
   "source": [
    "# Stress plot\n",
    "for (elem_num, (node1,node2)) in enumerate(connectivity):\n",
    "    if elem_num == 0:\n",
    "        plt.plot([nodes[node1],nodes[node2]], [element_stress[elem_num], element_stress[elem_num]],'b',label='FE Solution')\n",
    "    else:\n",
    "        plt.plot([nodes[node1],nodes[node2]], [element_stress[elem_num], element_stress[elem_num]],'b')\n",
    "\n",
    "plt.plot(x_values,np.reshape(((q_0*L)/(A))*(1-x_values/L),(-1)),'g--', label='Exact Solution')\n",
    "\n",
    "plt.xlabel('x')\n",
    "plt.ylabel('stress')\n",
    "plt.title('FE vs. Exact Stress')\n",
    "plt.legend(loc='best')"
   ]
  }
 ],
 "metadata": {
  "kernelspec": {
   "display_name": "Python 3",
   "language": "python",
   "name": "python3"
  },
  "language_info": {
   "codemirror_mode": {
    "name": "ipython",
    "version": 3
   },
   "file_extension": ".py",
   "mimetype": "text/x-python",
   "name": "python",
   "nbconvert_exporter": "python",
   "pygments_lexer": "ipython3",
   "version": "3.8.3"
  }
 },
 "nbformat": 4,
 "nbformat_minor": 1
}
