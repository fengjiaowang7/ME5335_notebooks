{
 "cells": [
  {
   "cell_type": "code",
   "execution_count": 82,
   "metadata": {},
   "outputs": [],
   "source": [
    "%matplotlib inline\n",
    "import numpy as np\n",
    "import matplotlib.pyplot as plt"
   ]
  },
  {
   "cell_type": "code",
   "execution_count": 83,
   "metadata": {},
   "outputs": [],
   "source": [
    "L = 1.0  # Total length of rod\n",
    "A = 0.2  # Cross sectional area of rod\n",
    "E = 10   # Elastic modulus of rod\n",
    "q_0 = 5.0*A   # Downward force per unit length of rod"
   ]
  },
  {
   "cell_type": "code",
   "execution_count": 84,
   "metadata": {},
   "outputs": [],
   "source": [
    "M = 2  # Number of elements\n",
    "N = M+1  # Number of nodes"
   ]
  },
  {
   "cell_type": "code",
   "execution_count": 85,
   "metadata": {},
   "outputs": [
    {
     "data": {
      "text/plain": [
       "array([[0, 1],\n",
       "       [1, 2]])"
      ]
     },
     "execution_count": 85,
     "metadata": {},
     "output_type": "execute_result"
    }
   ],
   "source": [
    "# Define the connectivity matrix\n",
    "nodes = np.linspace(0,L,N)\n",
    "connectivity = np.array([ [i,i+1] for i in range(M)],dtype=int)\n",
    "connectivity"
   ]
  },
  {
   "cell_type": "code",
   "execution_count": 86,
   "metadata": {},
   "outputs": [],
   "source": [
    "# Define the element matrices\n",
    "k_elements = []\n",
    "f_elements = []\n",
    "for current_elem in range(M):\n",
    "    node1 = nodes[connectivity[current_elem,0]]\n",
    "    node2 = nodes[connectivity[current_elem,1]]\n",
    "    elem_length = node2-node1\n",
    "    k_elements.append( E*A*np.array([[1/elem_length, -1/elem_length],[-1/elem_length, 1/elem_length]]) )\n",
    "    \n",
    "    f_elements.append( q_0*np.array([elem_length/2.0, elem_length/2.0]) )\n",
    "    "
   ]
  },
  {
   "cell_type": "code",
   "execution_count": 87,
   "metadata": {},
   "outputs": [
    {
     "data": {
      "text/plain": [
       "(array([[ 4., -4.,  0.],\n",
       "        [-4.,  8., -4.],\n",
       "        [ 0., -4.,  4.]]),\n",
       " array([[0.25],\n",
       "        [0.5 ],\n",
       "        [0.25]]))"
      ]
     },
     "execution_count": 87,
     "metadata": {},
     "output_type": "execute_result"
    }
   ],
   "source": [
    "# Assemble the matrices\n",
    "K = np.zeros((N,N))\n",
    "F = np.zeros((N,1))\n",
    "\n",
    "for elem_num,elem_k in enumerate(k_elements):\n",
    "    for i in range(2):\n",
    "        row = connectivity[elem_num,i]\n",
    "        F[row] += f_elements[elem_num][i]\n",
    "        for j in range(2):\n",
    "            col = connectivity[elem_num,j]\n",
    "            K[row,col] += elem_k[i,j]\n",
    "            \n",
    "            \n",
    "        \n",
    "(K,F)\n",
    "    "
   ]
  },
  {
   "cell_type": "code",
   "execution_count": 88,
   "metadata": {},
   "outputs": [],
   "source": [
    "# Partition the matrices\n",
    "A_sub = K[0:1,0:1]\n",
    "B = K[0:1, 1:N]\n",
    "C = K[1:N,0:1]\n",
    "D = K[1:N, 1:N]\n",
    "beta = np.array([[0]])\n",
    "F = F[1:N]"
   ]
  },
  {
   "cell_type": "code",
   "execution_count": 89,
   "metadata": {},
   "outputs": [
    {
     "data": {
      "text/plain": [
       "array([0.    , 0.1875, 0.25  ])"
      ]
     },
     "execution_count": 89,
     "metadata": {},
     "output_type": "execute_result"
    }
   ],
   "source": [
    "delta = np.linalg.inv(D)@(F-C@beta)\n",
    "delta\n",
    "all_deltas = np.reshape(np.vstack( (beta,delta) ), (-1))\n",
    "all_deltas"
   ]
  },
  {
   "cell_type": "code",
   "execution_count": 90,
   "metadata": {},
   "outputs": [
    {
     "data": {
      "text/plain": [
       "array([[-0.75]])"
      ]
     },
     "execution_count": 90,
     "metadata": {},
     "output_type": "execute_result"
    }
   ],
   "source": [
    "R = A_sub@beta + B@delta\n",
    "R"
   ]
  },
  {
   "cell_type": "code",
   "execution_count": 91,
   "metadata": {},
   "outputs": [],
   "source": [
    "element_stress = []\n",
    "\n",
    "for node1,node2 in connectivity:\n",
    "    elongation = (all_deltas[node2]-all_deltas[node1])/(nodes[node2]-nodes[node1])\n",
    "    element_stress.append(E*elongation)"
   ]
  },
  {
   "cell_type": "code",
   "execution_count": 92,
   "metadata": {},
   "outputs": [
    {
     "data": {
      "text/plain": [
       "<matplotlib.legend.Legend at 0x183d7ac0fa0>"
      ]
     },
     "execution_count": 92,
     "metadata": {},
     "output_type": "execute_result"
    },
    {
     "data": {
      "image/png": "[encoded data removed]",
      "text/plain": [
       "<Figure size 432x288 with 1 Axes>"
      ]
     },
     "metadata": {
      "needs_background": "light"
     },
     "output_type": "display_data"
    }
   ],
   "source": [
    "# Displacement plot\n",
    "plt.plot(nodes,all_deltas,'b',label='FE Solution')\n",
    "plt.xlabel('x')\n",
    "plt.ylabel('displacement')\n",
    "plt.title('FE vs. Exact Displacement')\n",
    "x_values = np.linspace(0,L)\n",
    "plt.plot(x_values,np.reshape( (1/(A*E)) * (-((q_0*(x_values**2))/2.0) + q_0*L*x_values) ,(-1)), 'g', label='Exact Solution')\n",
    "plt.legend(loc='best')\n"
   ]
  },
  {
   "cell_type": "code",
   "execution_count": 93,
   "metadata": {},
   "outputs": [
    {
     "data": {
      "text/plain": [
       "<matplotlib.legend.Legend at 0x183d7b0e160>"
      ]
     },
     "execution_count": 93,
     "metadata": {},
     "output_type": "execute_result"
    },
    {
     "data": {
      "image/png": "[encoded data removed]",
      "text/plain": [
       "<Figure size 432x288 with 1 Axes>"
      ]
     },
     "metadata": {
      "needs_background": "light"
     },
     "output_type": "display_data"
    }
   ],
   "source": [
    "# Stress plot\n",
    "for (elem_num, (node1,node2)) in enumerate(connectivity):\n",
    "    if elem_num == 0:\n",
    "        plt.plot([nodes[node1],nodes[node2]], [element_stress[elem_num], element_stress[elem_num]],'b',label='FE Solution')\n",
    "    else:\n",
    "        plt.plot([nodes[node1],nodes[node2]], [element_stress[elem_num], element_stress[elem_num]],'b')\n",
    "\n",
    "plt.plot(x_values,np.reshape(((q_0*L)/(A))*(1-x_values/L),(-1)),'g', label='Exact Solution')\n",
    "\n",
    "plt.xlabel('x')\n",
    "plt.ylabel('stress')\n",
    "plt.title('FE vs. Exact Stress')\n",
    "plt.legend(loc='best')"
   ]
  },
  {
   "cell_type": "code",
   "execution_count": null,
   "metadata": {},
   "outputs": [],
   "source": []
  },
  {
   "cell_type": "code",
   "execution_count": null,
   "metadata": {},
   "outputs": [],
   "source": []
  }
 ],
 "metadata": {
  "kernelspec": {
   "display_name": "Python 3",
   "language": "python",
   "name": "python3"
  },
  "language_info": {
   "codemirror_mode": {
    "name": "ipython",
    "version": 3
   },
   "file_extension": ".py",
   "mimetype": "text/x-python",
   "name": "python",
   "nbconvert_exporter": "python",
   "pygments_lexer": "ipython3",
   "version": "3.8.3"
  }
 },
 "nbformat": 4,
 "nbformat_minor": 1
}
