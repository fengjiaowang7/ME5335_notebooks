{
 "cells": [
  {
   "cell_type": "code",
   "execution_count": 1,
   "metadata": {},
   "outputs": [],
   "source": [
    "import sympy\n",
    "sympy.init_printing()  # printing equations using mathematical notation in the notebook"
   ]
  },
  {
   "cell_type": "code",
   "execution_count": 2,
   "metadata": {},
   "outputs": [],
   "source": [
    "# Define the symbolic variables we need and the shape functions\n",
    "L,x,A,rho,E = sympy.symbols('L,x,A,rho,E')\n",
    "N1 = (1-x/L)\n",
    "N2 = (x/L)"
   ]
  },
  {
   "cell_type": "code",
   "execution_count": 3,
   "metadata": {},
   "outputs": [
    {
     "data": {
      "text/latex": [
       "$\\displaystyle \\left[\\begin{matrix}\\frac{A L \\rho}{3} & \\frac{A L \\rho}{6}\\\\\\frac{A L \\rho}{6} & \\frac{A L \\rho}{3}\\end{matrix}\\right]$"
      ],
      "text/plain": [
       "⎡A⋅L⋅ρ  A⋅L⋅ρ⎤\n",
       "⎢─────  ─────⎥\n",
       "⎢  3      6  ⎥\n",
       "⎢            ⎥\n",
       "⎢A⋅L⋅ρ  A⋅L⋅ρ⎥\n",
       "⎢─────  ─────⎥\n",
       "⎣  6      3  ⎦"
      ]
     },
     "execution_count": 3,
     "metadata": {},
     "output_type": "execute_result"
    }
   ],
   "source": [
    "# Intregrate the mass matrix\n",
    "M = (A*rho*sympy.Matrix([[N1*N1, N1*N2],[N2*N1, N2*N2]])).integrate( (x,0,L))\n",
    "M"
   ]
  },
  {
   "cell_type": "code",
   "execution_count": 4,
   "metadata": {},
   "outputs": [
    {
     "data": {
      "text/latex": [
       "$\\displaystyle \\left[\\begin{matrix}\\frac{A E}{L} & - \\frac{A E}{L}\\\\- \\frac{A E}{L} & \\frac{A E}{L}\\end{matrix}\\right]$"
      ],
      "text/plain": [
       "⎡ A⋅E   -A⋅E ⎤\n",
       "⎢ ───   ─────⎥\n",
       "⎢  L      L  ⎥\n",
       "⎢            ⎥\n",
       "⎢-A⋅E    A⋅E ⎥\n",
       "⎢─────   ─── ⎥\n",
       "⎣  L      L  ⎦"
      ]
     },
     "execution_count": 4,
     "metadata": {},
     "output_type": "execute_result"
    }
   ],
   "source": [
    "# Define the stiffness matrix\n",
    "K = ((E*A)/L)*sympy.Matrix([[1,-1],[-1,1]])\n",
    "K"
   ]
  },
  {
   "cell_type": "code",
   "execution_count": 5,
   "metadata": {},
   "outputs": [
    {
     "data": {
      "image/png": "[encoded data removed]",
      "text/latex": [
       "$\\displaystyle - A^{2} E \\omega^{2} \\rho + \\frac{A^{2} L^{2} \\omega^{4} \\rho^{2}}{12}$"
      ],
      "text/plain": [
       "               2  2  4  2\n",
       "   2    2     A ⋅L ⋅ω ⋅ρ \n",
       "- A ⋅E⋅ω ⋅ρ + ───────────\n",
       "                   12    "
      ]
     },
     "execution_count": 5,
     "metadata": {},
     "output_type": "execute_result"
    }
   ],
   "source": [
    "# Define the symbol for omega and get the characteristic polynomial \n",
    "# for the eigenvalue problem\n",
    "omega = sympy.symbols('omega')\n",
    "\n",
    "poly =  (K-omega**2*M).det()\n",
    "poly"
   ]
  },
  {
   "cell_type": "code",
   "execution_count": 6,
   "metadata": {},
   "outputs": [
    {
     "data": {
      "image/png": "[encoded data removed]",
      "text/latex": [
       "$\\displaystyle \\left[ 0, \\  - \\frac{2 \\sqrt{3} \\sqrt{\\frac{E}{\\rho}}}{L}, \\  \\frac{2 \\sqrt{3} \\sqrt{\\frac{E}{\\rho}}}{L}\\right]$"
      ],
      "text/plain": [
       "⎡             ___            ___⎤\n",
       "⎢            ╱ E            ╱ E ⎥\n",
       "⎢   -2⋅√3⋅  ╱  ─    2⋅√3⋅  ╱  ─ ⎥\n",
       "⎢         ╲╱   ρ         ╲╱   ρ ⎥\n",
       "⎢0, ──────────────, ────────────⎥\n",
       "⎣         L              L      ⎦"
      ]
     },
     "execution_count": 6,
     "metadata": {},
     "output_type": "execute_result"
    }
   ],
   "source": [
    "# Solve for the roots of the characteristic polynomial to get the natural frequencies\n",
    "frequencies = sympy.solve(poly,omega)\n",
    "frequencies"
   ]
  },
  {
   "cell_type": "code",
   "execution_count": 7,
   "metadata": {},
   "outputs": [
    {
     "data": {
      "image/png": "[encoded data removed]",
      "text/latex": [
       "$\\displaystyle \\left[ 1, \\  1\\right]$"
      ],
      "text/plain": [
       "[1, 1]"
      ]
     },
     "execution_count": 7,
     "metadata": {},
     "output_type": "execute_result"
    }
   ],
   "source": [
    "# Use the first non-negative natural frequency to solve for the first mode shape vector\n",
    "b = sympy.symbols('b')\n",
    "freq_num = 0 # index of first natural frequency\n",
    "solution = sympy.solve(((K-frequencies[freq_num]**2*M)@sympy.Matrix([1,b]))[0], b)\n",
    "mode_shape_1 = [1,solution[0]]\n",
    "mode_shape_1"
   ]
  },
  {
   "cell_type": "code",
   "execution_count": 8,
   "metadata": {},
   "outputs": [
    {
     "data": {
      "image/png": "[encoded data removed]",
      "text/latex": [
       "$\\displaystyle \\left[ 1, \\  -1\\right]$"
      ],
      "text/plain": [
       "[1, -1]"
      ]
     },
     "execution_count": 8,
     "metadata": {},
     "output_type": "execute_result"
    }
   ],
   "source": [
    "# Use the second non-negative natural frequency to solve for the first mode shape vector\n",
    "freq_num = 2 # index of second natural frequency\n",
    "solution = sympy.solve(((K-frequencies[freq_num]**2*M)@sympy.Matrix([1,b]))[0], b)\n",
    "mode_shape_2 = [1,solution[0]]\n",
    "mode_shape_2"
   ]
  }
 ],
 "metadata": {
  "kernelspec": {
   "display_name": "Python 3",
   "language": "python",
   "name": "python3"
  },
  "language_info": {
   "codemirror_mode": {
    "name": "ipython",
    "version": 3
   },
   "file_extension": ".py",
   "mimetype": "text/x-python",
   "name": "python",
   "nbconvert_exporter": "python",
   "pygments_lexer": "ipython3",
   "version": "3.8.3"
  }
 },
 "nbformat": 4,
 "nbformat_minor": 1
}
