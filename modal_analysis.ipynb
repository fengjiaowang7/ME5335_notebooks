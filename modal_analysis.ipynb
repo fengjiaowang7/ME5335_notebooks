{
 "cells": [
  {
   "cell_type": "code",
   "execution_count": null,
   "metadata": {},
   "outputs": [],
   "source": [
    "import sympy\n",
    "sympy.init_printing()  # printing equations using mathematical notation in the notebook"
   ]
  },
  {
   "cell_type": "code",
   "execution_count": null,
   "metadata": {},
   "outputs": [],
   "source": [
    "# Define the symbolic variables we need and the shape functions\n",
    "L,x,A,rho,E = sympy.symbols('L,x,A,rho,E')\n",
    "N1 = (1-x/L)\n",
    "N2 = (x/L)"
   ]
  },
  {
   "cell_type": "code",
   "execution_count": null,
   "metadata": {},
   "outputs": [],
   "source": [
    "# Intregrate the mass matrix\n",
    "M = (A*rho*sympy.Matrix([[N1*N1, N1*N2],[N2*N1, N2*N2]])).integrate( (x,0,L))\n",
    "M"
   ]
  },
  {
   "cell_type": "code",
   "execution_count": null,
   "metadata": {},
   "outputs": [],
   "source": [
    "# Define the stiffness matrix\n",
    "K = ((E*A)/L)*sympy.Matrix([[1,-1],[-1,1]])\n",
    "K"
   ]
  },
  {
   "cell_type": "code",
   "execution_count": null,
   "metadata": {},
   "outputs": [],
   "source": [
    "# Define the symbol for omega and get the characteristic polynomial \n",
    "# for the eigenvalue problem\n",
    "omega = sympy.symbols('omega')\n",
    "\n",
    "poly =  (K-omega**2*M).det()\n",
    "poly"
   ]
  },
  {
   "cell_type": "code",
   "execution_count": null,
   "metadata": {},
   "outputs": [],
   "source": [
    "# Solve for the roots of the characteristic polynomial to get the natural frequencies\n",
    "frequencies = sympy.solve(poly,omega)\n",
    "frequencies"
   ]
  },
  {
   "cell_type": "code",
   "execution_count": null,
   "metadata": {},
   "outputs": [],
   "source": [
    "# Use the first non-negative natural frequency to solve for the first mode shape vector\n",
    "b = sympy.symbols('b')\n",
    "freq_num = 0 # index of first natural frequency\n",
    "solution = sympy.solve(((K-frequencies[freq_num]**2*M)@sympy.Matrix([1,b]))[0], b)\n",
    "mode_shape_1 = [1,solution[0]]\n",
    "mode_shape_1"
   ]
  },
  {
   "cell_type": "code",
   "execution_count": null,
   "metadata": {},
   "outputs": [],
   "source": [
    "# Use the second non-negative natural frequency to solve for the first mode shape vector\n",
    "freq_num = 2 # index of second natural frequency\n",
    "solution = sympy.solve(((K-frequencies[freq_num]**2*M)@sympy.Matrix([1,b]))[0], b)\n",
    "mode_shape_2 = [1,solution[0]]\n",
    "mode_shape_2"
   ]
  }
 ],
 "metadata": {
  "kernelspec": {
   "display_name": "Python 3",
   "language": "python",
   "name": "python3"
  },
  "language_info": {
   "codemirror_mode": {
    "name": "ipython",
    "version": 3
   },
   "file_extension": ".py",
   "mimetype": "text/x-python",
   "name": "python",
   "nbconvert_exporter": "python",
   "pygments_lexer": "ipython3",
   "version": "3.8.3"
  }
 },
 "nbformat": 4,
 "nbformat_minor": 1
}
