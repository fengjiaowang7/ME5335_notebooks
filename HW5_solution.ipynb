{
 "cells": [
  {
   "cell_type": "code",
   "execution_count": 1,
   "metadata": {},
   "outputs": [],
   "source": [
    "import sympy\n",
    "sympy.init_printing()  # printing equations using mathematical notation in the notebook"
   ]
  },
  {
   "cell_type": "code",
   "execution_count": 2,
   "metadata": {},
   "outputs": [],
   "source": [
    "L = 0.1     # m\n",
    "E = 207e9   # N/m^2\n",
    "I = 8.0e-10 # m^4\n",
    "m = 0.08    # kg"
   ]
  },
  {
   "cell_type": "code",
   "execution_count": 3,
   "metadata": {},
   "outputs": [
    {
     "data": {
      "text/latex": [
       "$\\displaystyle \\left[\\begin{matrix}0.0297142857142857 & -0.000419047619047619\\\\-0.000419047619047619 & 7.61904761904762 \\cdot 10^{-6}\\end{matrix}\\right]$"
      ],
      "text/plain": [
       "⎡ 0.0297142857142857    -0.000419047619047619⎤\n",
       "⎢                                            ⎥\n",
       "⎣-0.000419047619047619   7.61904761904762e-6 ⎦"
      ]
     },
     "execution_count": 3,
     "metadata": {},
     "output_type": "execute_result"
    }
   ],
   "source": [
    "# Intregrate the mass matrix\n",
    "M = (m/420)*sympy.Matrix([[156, -22*L],[-22*L, 4*L**2]])\n",
    "M"
   ]
  },
  {
   "cell_type": "code",
   "execution_count": 4,
   "metadata": {},
   "outputs": [
    {
     "data": {
      "text/latex": [
       "$\\displaystyle \\left[\\begin{matrix}1987200.0 & -99360.0\\\\-99360.0 & 6624.0\\end{matrix}\\right]$"
      ],
      "text/plain": [
       "⎡1987200.0  -99360.0⎤\n",
       "⎢                   ⎥\n",
       "⎣-99360.0    6624.0 ⎦"
      ]
     },
     "execution_count": 4,
     "metadata": {},
     "output_type": "execute_result"
    }
   ],
   "source": [
    "# Define the stiffness matrix\n",
    "K = ((E*I)/L**3)*sympy.Matrix([[12,-6*L],[-6*L,4*L**2]])\n",
    "K"
   ]
  },
  {
   "cell_type": "code",
   "execution_count": 5,
   "metadata": {},
   "outputs": [
    {
     "data": {
      "image/png": "[encoded data removed]",
      "text/latex": [
       "$\\displaystyle 5.07936507936508 \\cdot 10^{-8} \\omega^{4} - 128.694857142857 \\omega^{2} + 3290803200.0$"
      ],
      "text/plain": [
       "                     4                     2               \n",
       "5.07936507936508e-8⋅ω  - 128.694857142857⋅ω  + 3290803200.0"
      ]
     },
     "execution_count": 5,
     "metadata": {},
     "output_type": "execute_result"
    }
   ],
   "source": [
    "# Define the symbol for omega and get the characteristic polynomial \n",
    "# for the eigenvalue problem\n",
    "omega = sympy.symbols('omega')\n",
    "\n",
    "poly =  (K-omega**2*M).det()\n",
    "poly"
   ]
  },
  {
   "cell_type": "code",
   "execution_count": 6,
   "metadata": {},
   "outputs": [
    {
     "data": {
      "image/png": "[encoded data removed]",
      "text/latex": [
       "$\\displaystyle \\left[ -50078.3985590766, \\  -5082.71558896131, \\  5082.71558896131, \\  50078.3985590766\\right]$"
      ],
      "text/plain": [
       "[-50078.3985590766, -5082.71558896131, 5082.71558896131, 50078.3985590766]"
      ]
     },
     "execution_count": 6,
     "metadata": {},
     "output_type": "execute_result"
    }
   ],
   "source": [
    "# Solve for the roots of the characteristic polynomial to get the natural frequencies\n",
    "frequencies = sympy.solve(poly,omega)\n",
    "frequencies"
   ]
  },
  {
   "cell_type": "code",
   "execution_count": 7,
   "metadata": {},
   "outputs": [
    {
     "data": {
      "image/png": "[encoded data removed]",
      "text/latex": [
       "$\\displaystyle \\left[ 1, \\  13.775010008008\\right]$"
      ],
      "text/plain": [
       "[1, 13.775010008008]"
      ]
     },
     "execution_count": 7,
     "metadata": {},
     "output_type": "execute_result"
    }
   ],
   "source": [
    "# Use the first non-negative natural frequency to solve for the first mode shape vector\n",
    "b = sympy.symbols('b')\n",
    "freq_num = 2 # index of first natural frequency\n",
    "solution = sympy.solve(((K-frequencies[freq_num]**2*M)@sympy.Matrix([1,b]))[0], b)\n",
    "mode_shape_1 = [1,solution[0]]\n",
    "mode_shape_1"
   ]
  },
  {
   "cell_type": "code",
   "execution_count": 8,
   "metadata": {},
   "outputs": [
    {
     "data": {
      "image/png": "[encoded data removed]",
      "text/latex": [
       "$\\displaystyle \\left[ 1, \\  76.224989991992\\right]$"
      ],
      "text/plain": [
       "[1, 76.224989991992]"
      ]
     },
     "execution_count": 8,
     "metadata": {},
     "output_type": "execute_result"
    }
   ],
   "source": [
    "# Use the second non-negative natural frequency to solve for the first mode shape vector\n",
    "freq_num = 3 # index of second natural frequency\n",
    "solution = sympy.solve(((K-frequencies[freq_num]**2*M)@sympy.Matrix([1,b]))[0], b)\n",
    "mode_shape_2 = [1,solution[0]]\n",
    "mode_shape_2"
   ]
  }
 ],
 "metadata": {
  "kernelspec": {
   "display_name": "Python 3",
   "language": "python",
   "name": "python3"
  },
  "language_info": {
   "codemirror_mode": {
    "name": "ipython",
    "version": 3
   },
   "file_extension": ".py",
   "mimetype": "text/x-python",
   "name": "python",
   "nbconvert_exporter": "python",
   "pygments_lexer": "ipython3",
   "version": "3.8.3"
  }
 },
 "nbformat": 4,
 "nbformat_minor": 1
}
