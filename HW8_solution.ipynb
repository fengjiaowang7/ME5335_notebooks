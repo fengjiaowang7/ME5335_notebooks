{
 "cells": [
  {
   "cell_type": "code",
   "execution_count": 1,
   "metadata": {},
   "outputs": [],
   "source": [
    "%matplotlib inline\n",
    "import matplotlib.pylab as plt\n",
    "from math import *\n",
    "import numpy as np"
   ]
  },
  {
   "cell_type": "code",
   "execution_count": 2,
   "metadata": {},
   "outputs": [],
   "source": [
    "k_c = 0.87\n",
    "k_f = 0.026\n",
    "\n",
    "c_c = 837.36 \n",
    "c_f = 1000\n",
    "\n",
    "rho_c = 2400\n",
    "rho_f = 30 \n",
    "\n",
    "T_g = 10+273\n",
    "Q_c = 100\n",
    "\n",
    "T_e = 25+273\n",
    "T_f_0 = 10+273\n",
    "T_c_0 = 10+273\n",
    "\n",
    "L_c = 0.1\n",
    "L_f = 0.05\n",
    "\n",
    "h = 1.3\n",
    "\n",
    "A = 36\n",
    "\n",
    "delta_t = 10000  # sec\n",
    "end_time = 500000"
   ]
  },
  {
   "cell_type": "code",
   "execution_count": 3,
   "metadata": {},
   "outputs": [
    {
     "name": "stdout",
     "output_type": "stream",
     "text": [
      "[283.         298.93882495 299.31677771]\n"
     ]
    }
   ],
   "source": [
    "K = A*np.array([[1/A, 0, 0],\n",
    "                [-k_f/L_f, k_f/L_f+k_c/L_c, -k_c/L_c],\n",
    "                [0, -k_c/L_c, k_c/L_c+h]])\n",
    "\n",
    "R = np.array([T_g,\n",
    "              (A*Q_c*L_c)/2,\n",
    "              (A*Q_c*L_c)/2+A*h*T_e])\n",
    "\n",
    "\n",
    "C = 0.5*A*np.diag([rho_f*c_f*L_f, rho_f*c_f*L_f+rho_c*c_c*L_c, rho_c*c_c*L_c])\n",
    "\n",
    "ss_solution = np.linalg.inv(K) @ R\n",
    "print(ss_solution)"
   ]
  },
  {
   "cell_type": "code",
   "execution_count": 4,
   "metadata": {},
   "outputs": [],
   "source": [
    "C_inv = np.linalg.inv(C)\n",
    "\n",
    "T_0 = np.array([T_f_0, T_f_0, T_c_0])\n",
    "\n",
    "time = np.arange(0.0, end_time, delta_t)\n",
    "\n",
    "transient_solution = []\n",
    "\n",
    "transient_solution.append(T_0)\n",
    "\n",
    "for t in time[1:]:\n",
    "    r_bar = (C-delta_t*K) @ transient_solution[-1] + delta_t*R\n",
    "    transient_solution.append( C_inv @ r_bar)\n",
    "    \n",
    "transient_solution = np.array(transient_solution)\n",
    "    "
   ]
  },
  {
   "cell_type": "code",
   "execution_count": 5,
   "metadata": {},
   "outputs": [
    {
     "data": {
      "text/plain": [
       "Text(0.5, 1.0, 'Temperature vs. Time')"
      ]
     },
     "execution_count": 5,
     "metadata": {},
     "output_type": "execute_result"
    },
    {
     "data": {
      "image/png": "[encoded data removed]",
      "text/plain": [
       "<Figure size 432x288 with 1 Axes>"
      ]
     },
     "metadata": {
      "needs_background": "light"
     },
     "output_type": "display_data"
    }
   ],
   "source": [
    "plt.plot(time*(1/(60*60*24)),transient_solution[:,2])\n",
    "plt.axhline(ss_solution[2],linestyle='--')\n",
    "\n",
    "plt.xlabel('Time (days)')\n",
    "plt.ylabel('Temp (K)')\n",
    "plt.title('Temperature vs. Time')"
   ]
  },
  {
   "cell_type": "code",
   "execution_count": null,
   "metadata": {},
   "outputs": [],
   "source": []
  }
 ],
 "metadata": {
  "kernelspec": {
   "display_name": "Python 3",
   "language": "python",
   "name": "python3"
  },
  "language_info": {
   "codemirror_mode": {
    "name": "ipython",
    "version": 3
   },
   "file_extension": ".py",
   "mimetype": "text/x-python",
   "name": "python",
   "nbconvert_exporter": "python",
   "pygments_lexer": "ipython3",
   "version": "3.8.3"
  }
 },
 "nbformat": 4,
 "nbformat_minor": 2
}
